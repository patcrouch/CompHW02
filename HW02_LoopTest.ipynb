{
 "cells": [
  {
   "cell_type": "code",
   "execution_count": 1,
   "id": "9577b7a5",
   "metadata": {},
   "outputs": [],
   "source": [
    "spotify = {\n",
    "    1: {\"artists\": [\"ROSÉ\", \"Bruno Mars\"], \"title\": \"APT.\", \"length\": \"2:49\"},\n",
    "    2: {\"artists\": [\"Lady Gaga\", \"Bruno Mars\"], \"title\": \"Die With a Smile\",\n",
    "        \"length\": \"4:11\"},\n",
    "    3: {\"artists\": [\"Ed Sheeran\"], \"title\": \"Sapphire\", \"length\": \"2:59\"},\n",
    "    4: {\"artists\": [\"Billie Eilish\"], \"title\": \"Birds of a Feather\",\n",
    "        \"length\": \"3:30\"},\n",
    "    5: {\"artists\": [\"Benson Boone\"], \"title\": \"Beautiful Things\",\n",
    "        \"length\": \"3:00\"},\n",
    "    6: {\"artists\": [\"Sabrina Carpenter\"], \"title\": \"Manchild\",\n",
    "        \"length\": \"3:33\"},\n",
    "    7: {\"artists\": [\"Alex Warren\"], \"title\": \"Ordinary\", \"length\": \"3:06\"},\n",
    "    8: {\"artists\": [\"Billie Eilish\"], \"title\": \"Wildflower\", \"length\": \"4:21\"},\n",
    "    9: {\"artists\": [\"Sabrina Carpenter\"], \"title\": \"Espresso\",\n",
    "        \"length\": \"2:55\"},\n",
    "    10: {\"artists\": [\"Lady Gaga\"], \"title\": \"Abracadabra\", \"length\": \"3:43\"}\n",
    "}\n",
    "\n",
    "user_choice_question = \"Enter what you would like to browse:\\n \\\n",
    "                        \\t1: A list of artists in the top 10 most played songs\\n \\\n",
    "                        \\t2: Song by ranking\\n \\\n",
    "                        \\t3: Songs by an artist\\n \\\n",
    "                        \\t4: Songs ordered by length\\n \\\n",
    "                        \\t0: Exit\\n\"\n",
    "\n",
    "ranking_question = \"Enter the ranking you're interested in (between 1 and 10): \"\n",
    "ranking_value_error = \"Invalid input. Please enter a number.\"\n",
    "ranking_range_error = \"Ranking out of range.\"\n",
    "\n",
    "artist_question = \"Enter the name of the artist you're interested in: \"\n",
    "artist_error = \"No songs were found by \"\n",
    "\n",
    "length_question = \"Enter a number to view songs by length. (Positive: longest songs, Negative: shortest songs): \"\n",
    "length_value_error = \"Invalid vallue. Please enter a number.\""
   ]
  },
  {
   "cell_type": "code",
   "execution_count": 2,
   "id": "cb6dd688",
   "metadata": {},
   "outputs": [
    {
     "name": "stdout",
     "output_type": "stream",
     "text": [
      "Alex Warren, Benson Boone, Billie Eilish, Bruno Mars, Ed Sheeran, Lady Gaga, ROSÉ, Sabrina Carpenter\n"
     ]
    }
   ],
   "source": [
    "def unique_artists():\n",
    "    artist_list = []\n",
    "    for song in spotify.values():\n",
    "        for artist in song['artists']:\n",
    "            if artist not in artist_list:\n",
    "                artist_list.append(artist)\n",
    "\n",
    "    artist_list.sort()\n",
    "\n",
    "    print(', '.join(artist_list))\n",
    "    return \n",
    "\n",
    "unique_artists()"
   ]
  },
  {
   "cell_type": "code",
   "execution_count": 22,
   "id": "5f4e1ad6",
   "metadata": {},
   "outputs": [
    {
     "name": "stdout",
     "output_type": "stream",
     "text": [
      "2: Die With a Smile by Lady Gaga, Bruno Mars\n"
     ]
    }
   ],
   "source": [
    "def song_by_rank(string_r):\n",
    "    try:\n",
    "        r = int(string_r)\n",
    "    except:\n",
    "        print(ranking_value_error)\n",
    "        return\n",
    "\n",
    "    if r < 1 or r > 10:\n",
    "        print(ranking_range_error)\n",
    "        return\n",
    "\n",
    "    song = spotify[r]\n",
    "    r_string = f\"{r}: {song['title']} by {', '.join(song['artists'])}\"\n",
    "\n",
    "    print(r_string)\n",
    "    return\n",
    "\n",
    "song_by_rank(2)"
   ]
  },
  {
   "cell_type": "code",
   "execution_count": 4,
   "id": "c8611f7c",
   "metadata": {},
   "outputs": [
    {
     "name": "stdout",
     "output_type": "stream",
     "text": [
      "1: APT.\n",
      "2: Die With a Smile\n"
     ]
    }
   ],
   "source": [
    "def song_by_artist(artist):\n",
    "    song_list = []\n",
    "\n",
    "    for r in spotify:\n",
    "        lower_aritsts = [a.lower() for a in spotify[r]['artists']]\n",
    "        if artist.lower() in lower_aritsts:\n",
    "            song_list.append(f\"{r}: {spotify[r]['title']}\")\n",
    "\n",
    "\n",
    "    if not song_list:\n",
    "        print(artist_error + artist)\n",
    "        return \n",
    "    else:\n",
    "        print('\\n'.join(song_list))\n",
    "    \n",
    "\n",
    "song_by_artist('Bruno mars')"
   ]
  },
  {
   "cell_type": "code",
   "execution_count": null,
   "id": "68dca538",
   "metadata": {},
   "outputs": [
    {
     "name": "stdout",
     "output_type": "stream",
     "text": [
      "No songs were found by doggo mars\n",
      "Goodbye!\n"
     ]
    }
   ],
   "source": [
    "while True:\n",
    "    user_input = input(user_choice_question)\n",
    "    if int(user_input) == 0:\n",
    "        break\n",
    "    elif int(user_input) == 1:\n",
    "        print(unique_artists())\n",
    "    elif int(user_input) == 2:\n",
    "        song_by_rank(input(ranking_question))\n",
    "    elif int(user_input) == 3:\n",
    "        song_by_artist(input(artist_question))\n",
    "        \n",
    "    "
   ]
  }
 ],
 "metadata": {
  "kernelspec": {
   "display_name": "base",
   "language": "python",
   "name": "python3"
  },
  "language_info": {
   "codemirror_mode": {
    "name": "ipython",
    "version": 3
   },
   "file_extension": ".py",
   "mimetype": "text/x-python",
   "name": "python",
   "nbconvert_exporter": "python",
   "pygments_lexer": "ipython3",
   "version": "3.13.5"
  }
 },
 "nbformat": 4,
 "nbformat_minor": 5
}
