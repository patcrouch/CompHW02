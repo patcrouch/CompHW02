{
 "cells": [
  {
   "cell_type": "code",
   "execution_count": 2,
   "id": "9577b7a5",
   "metadata": {},
   "outputs": [],
   "source": [
    "spotify = {\n",
    "    1: {\"artists\": [\"ROSÉ\", \"Bruno Mars\"], \"title\": \"APT.\", \"length\": \"2:49\"},\n",
    "    2: {\"artists\": [\"Lady Gaga\", \"Bruno Mars\"], \"title\": \"Die With a Smile\",\n",
    "        \"length\": \"4:11\"},\n",
    "    3: {\"artists\": [\"Ed Sheeran\"], \"title\": \"Sapphire\", \"length\": \"2:59\"},\n",
    "    4: {\"artists\": [\"Billie Eilish\"], \"title\": \"Birds of a Feather\",\n",
    "        \"length\": \"3:30\"},\n",
    "    5: {\"artists\": [\"Benson Boone\"], \"title\": \"Beautiful Things\",\n",
    "        \"length\": \"3:00\"},\n",
    "    6: {\"artists\": [\"Sabrina Carpenter\"], \"title\": \"Manchild\",\n",
    "        \"length\": \"3:33\"},\n",
    "    7: {\"artists\": [\"Alex Warren\"], \"title\": \"Ordinary\", \"length\": \"3:06\"},\n",
    "    8: {\"artists\": [\"Billie Eilish\"], \"title\": \"Wildflower\", \"length\": \"4:21\"},\n",
    "    9: {\"artists\": [\"Sabrina Carpenter\"], \"title\": \"Espresso\",\n",
    "        \"length\": \"2:55\"},\n",
    "    10: {\"artists\": [\"Lady Gaga\"], \"title\": \"Abracadabra\", \"length\": \"3:43\"}\n",
    "}\n",
    "\n",
    "user_choice_question = \"Enter what you would like to browse:\\n \\\n",
    "                        \\t1: A list of artists in the top 10 most played songs\\n \\\n",
    "                        \\t2: Song by ranking\\n \\\n",
    "                        \\t3: Songs by an artist\\n \\\n",
    "                        \\t4: Songs ordered by length\\n \\\n",
    "                        \\t0: Exit\\n\"\n",
    "\n",
    "ranking_question = \"Enter the ranking you're interested in (between 1 and 10): \"\n",
    "ranking_value_error = \"Invalid input. Please enter a number.\"\n",
    "ranking_range_error = \"Ranking out of range.\"\n",
    "\n",
    "artist_question = \"Enter the name of the artist you're interested in: \"\n",
    "artist_error = \"No songs were found by \"\n",
    "\n",
    "length_question = \"Enter a number to view songs by length. (Positive: longest songs, Negative: shortest songs): \"\n",
    "length_value_error = \"Invalid vallue. Please enter a number.\""
   ]
  },
  {
   "cell_type": "code",
   "execution_count": null,
   "id": "cb6dd688",
   "metadata": {},
   "outputs": [
    {
     "data": {
      "text/plain": [
       "'Alex Warren, Benson Boone, Billie Eilish, Bruno Mars, Ed Sheeran, Lady Gaga, ROSÉ, Sabrina Carpenter'"
      ]
     },
     "execution_count": 25,
     "metadata": {},
     "output_type": "execute_result"
    }
   ],
   "source": [
    "def unique_artists():\n",
    "    artist_list = []\n",
    "    for song in spotify.values():\n",
    "        for artist in song['artists']:\n",
    "            if artist not in artist_list:\n",
    "                artist_list.append(artist)\n",
    "\n",
    "    artist_list.sort()\n",
    "\n",
    "    print(', '.join(artist_list))\n",
    "    return \n",
    "\n",
    "unique_artists()"
   ]
  },
  {
   "cell_type": "code",
   "execution_count": null,
   "id": "5f4e1ad6",
   "metadata": {},
   "outputs": [
    {
     "name": "stdout",
     "output_type": "stream",
     "text": [
      "Die With a Smile by Lady Gaga, Bruno Mars\n"
     ]
    }
   ],
   "source": [
    "def song_by_rank(string_r):\n",
    "    try:\n",
    "        r = int(string_r)\n",
    "    except:\n",
    "        print(ranking_value_error)\n",
    "        return\n",
    "\n",
    "    if r < 1 or r > 10:\n",
    "        print(ranking_range_error)\n",
    "        return\n",
    "\n",
    "    song = spotify[r]\n",
    "    r_string = f\"{song['title']} by {', '.join(song['artists'])}\"\n",
    "\n",
    "    print(r_string)\n",
    "    return\n",
    "\n",
    "song_by_rank(2)"
   ]
  },
  {
   "cell_type": "code",
   "execution_count": 43,
   "id": "c8611f7c",
   "metadata": {},
   "outputs": [
    {
     "name": "stdout",
     "output_type": "stream",
     "text": [
      "No songs were found by Bruno mar\n"
     ]
    }
   ],
   "source": [
    "def song_by_artist(artist):\n",
    "    song_list = []\n",
    "\n",
    "    for r in spotify:\n",
    "        lower_aritsts = [a.lower() for a in spotify[r]['artists']]\n",
    "        if artist.lower() in lower_aritsts:\n",
    "            song_list.append(f\"{r}: {spotify[r]['title']}\")\n",
    "\n",
    "\n",
    "    if not song_list:\n",
    "        print(artist_error + artist)\n",
    "        return \n",
    "    else:\n",
    "        print('\\n'.join(song_list))\n",
    "    \n",
    "\n",
    "song_by_artist('Bruno mar')"
   ]
  },
  {
   "cell_type": "code",
   "execution_count": null,
   "id": "f1b6a4fd",
   "metadata": {},
   "outputs": [],
   "source": [
    "def songs_by_length(n):\n",
    "    "
   ]
  },
  {
   "cell_type": "code",
   "execution_count": null,
   "id": "a4f183fb",
   "metadata": {},
   "outputs": [
    {
     "data": {
      "text/plain": [
       "{'computation': ['MSDS597', 'MSDS501'], 'statistics': ['MSDS504']}"
      ]
     },
     "execution_count": 22,
     "metadata": {},
     "output_type": "execute_result"
    }
   ],
   "source": [
    "classes = [\"computation-MSDS597\",\"statistics-MSDS504\",\n",
    "    \"computation-MSDS501\",\"computation-MSDS501\",\n",
    "    \"statistics-MSDS504\"\n",
    "]\n",
    "\n",
    "class_list = [c.split('-') for c in classes]\n",
    "\n",
    "c_dict = {c[0]:[] for c in class_list}\n",
    "for c in class_list:\n",
    "    if c[1] not in c_dict[c[0]]:\n",
    "        c_dict[c[0]].append(c[1])\n",
    "        \n",
    "c_dict"
   ]
  },
  {
   "cell_type": "code",
   "execution_count": null,
   "id": "0644b117",
   "metadata": {},
   "outputs": [],
   "source": []
  }
 ],
 "metadata": {
  "kernelspec": {
   "display_name": "Python 3",
   "language": "python",
   "name": "python3"
  },
  "language_info": {
   "codemirror_mode": {
    "name": "ipython",
    "version": 3
   },
   "file_extension": ".py",
   "mimetype": "text/x-python",
   "name": "python",
   "nbconvert_exporter": "python",
   "pygments_lexer": "ipython3",
   "version": "3.9.1"
  }
 },
 "nbformat": 4,
 "nbformat_minor": 5
}
