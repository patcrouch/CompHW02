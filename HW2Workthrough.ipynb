{
 "cells": [
  {
   "cell_type": "code",
   "execution_count": null,
   "id": "ccf1d9e5",
   "metadata": {},
   "outputs": [
    {
     "data": {
      "text/plain": [
       "['ROSÉ',\n",
       " 'Bruno Mars',\n",
       " 'Ed Sheeran',\n",
       " 'Benson Boone',\n",
       " 'Alex Warren',\n",
       " 'Billie Eilish',\n",
       " 'Sabrina Carpenter',\n",
       " 'Lady Gaga']"
      ]
     },
     "execution_count": 2,
     "metadata": {},
     "output_type": "execute_result"
    }
   ],
   "source": [
    "spotify = {\n",
    "    1: {\"artists\": [\"ROSÉ\", \"Bruno Mars\"], \"title\": \"APT.\", \"length\": \"2:49\"},\n",
    "    2: {\"artists\": [\"Lady Gaga\", \"Bruno Mars\"], \"title\": \"Die With a Smile\",\n",
    "        \"length\": \"4:11\"},\n",
    "    3: {\"artists\": [\"Ed Sheeran\"], \"title\": \"Sapphire\", \"length\": \"2:59\"},\n",
    "    4: {\"artists\": [\"Billie Eilish\"], \"title\": \"Birds of a Feather\",\n",
    "        \"length\": \"3:30\"},\n",
    "    5: {\"artists\": [\"Benson Boone\"], \"title\": \"Beautiful Things\",\n",
    "        \"length\": \"3:00\"},\n",
    "    6: {\"artists\": [\"Sabrina Carpenter\"], \"title\": \"Manchild\",\n",
    "        \"length\": \"3:33\"},\n",
    "    7: {\"artists\": [\"Alex Warren\"], \"title\": \"Ordinary\", \"length\": \"3:06\"},\n",
    "    8: {\"artists\": [\"Billie Eilish\"], \"title\": \"Wildflower\", \"length\": \"4:21\"},\n",
    "    9: {\"artists\": [\"Sabrina Carpenter\"], \"title\": \"Espresso\",\n",
    "        \"length\": \"2:55\"},\n",
    "    10: {\"artists\": [\"Lady Gaga\"], \"title\": \"Abracadabra\", \"length\": \"3:43\"}\n",
    "}\n",
    "#tackling making a nice list of artists\n",
    "artists = []\n",
    "for i in spotify:\n",
    "    artists.append(spotify[i]['artists'])\n",
    "artists_nice = [item for sublist in artists for item in sublist]\n",
    "for i in artists_nice:\n",
    "    while artists_nice.count(i) > 1:\n",
    "        artists_nice.remove(i)\n",
    "artists_nice #use this variable to call for artists"
   ]
  },
  {
   "cell_type": "code",
   "execution_count": null,
   "id": "dd8b629c",
   "metadata": {},
   "outputs": [
    {
     "name": "stdout",
     "output_type": "stream",
     "text": [
      "Sapphire by ['Ed Sheeran']\n"
     ]
    }
   ],
   "source": [
    "user_input = int(input(\"Enter what you would like to browse:\\n \\\n",
    "                        \\t1: A list of artists in the top 10 most played songs\\n \\\n",
    "                        \\t2: Song by ranking\\n \\\n",
    "                        \\t3: Songs by an artist\\n \\\n",
    "                        \\t4: Songs ordered by length\\n \\\n",
    "                        \\t0: Exit\\n\"))\n",
    "\n",
    "if user_input == 0:\n",
    "    print(\"Goodbye!\")\n",
    "elif user_input == 1:\n",
    "    artists_nice.sort()\n",
    "    print(artists_nice)\n",
    "elif user_input == 2:\n",
    "    user_2 = input(\"Enter the ranking you're interested in (between 1 and 10): \")\n",
    "    if user_2.isnumeric() == False:\n",
    "        print(\"Invalid input. Please enter a number.\")\n",
    "    elif int(user_2) not in range(1,11):\n",
    "        print(\"Ranking out of range.\")\n",
    "    else:\n",
    "        print(spotify[int(user_2)]['title'],\"by\",spotify[int(user_2)]['artists']) \n",
    "#elif user_input == 3:\n",
    "#    user_3 = input(\"Enter the name of the artist you're interested in: \")\n"
   ]
  },
  {
   "cell_type": "code",
   "execution_count": 27,
   "id": "9ab039f1",
   "metadata": {},
   "outputs": [
    {
     "name": "stdout",
     "output_type": "stream",
     "text": [
      "2: Die With a Smile\n",
      "10: Abracadabra\n"
     ]
    }
   ],
   "source": [
    "user_3 = input(\"Enter the name of the artist you're interested in: \")\n",
    "for i in spotify:\n",
    "    if user_3 in spotify[i]['artists']:\n",
    "        print(str(i) + \":\",spotify[i]['title'])\n",
    "if user_3 not in spotify[i]['artists']:\n",
    "    print(\"No songs were found by\",user_3)"
   ]
  },
  {
   "cell_type": "code",
   "execution_count": null,
   "id": "df5269e3",
   "metadata": {},
   "outputs": [],
   "source": [
    "user_4 = input(\"Enter a number to view songs by length. (Positive: longest songs, Negative: shortest songs): \")\n"
   ]
  }
 ],
 "metadata": {
  "kernelspec": {
   "display_name": "base",
   "language": "python",
   "name": "python3"
  },
  "language_info": {
   "codemirror_mode": {
    "name": "ipython",
    "version": 3
   },
   "file_extension": ".py",
   "mimetype": "text/x-python",
   "name": "python",
   "nbconvert_exporter": "python",
   "pygments_lexer": "ipython3",
   "version": "3.13.5"
  }
 },
 "nbformat": 4,
 "nbformat_minor": 5
}
